{
  "cells": [
    {
      "cell_type": "code",
      "execution_count": null,
      "metadata": {
        "colab": {
          "base_uri": "https://localhost:8080/"
        },
        "id": "ToZim901Z7Nb",
        "outputId": "c373df0a-6d48-4741-e27a-d8b026e8493c"
      },
      "outputs": [
        {
          "name": "stdout",
          "output_type": "stream",
          "text": [
            "Model trained and saved as model.pkl\n"
          ]
        }
      ],
      "source": [
        "# DON'T USE THIS FILE HERE IS THE SHARE LINK:\n",
        "\"\"\"\n",
        "https://drive.google.com/file/d/1D-BAbPYIFShVT4kXYyN8Yns1PX4Nsgep/view?usp=sharing\n",
        "\"\"\"\n",
        "\n",
        "# Authors: Matthew Cutrona & Garrett Weaver\n",
        "# TRAIN PKL MODEL\n",
        "\n",
        "import pickle\n",
        "from sklearn.linear_model import LogisticRegression\n",
        "from sklearn.datasets import load_iris\n",
        "from sklearn.model_selection import train_test_split\n",
        "\n",
        "# Load Iris dataset\n",
        "iris = load_iris()\n",
        "X, y = iris.data, iris.target\n",
        "\n",
        "# Split into training and testing\n",
        "X_train, X_test, y_train, y_test = train_test_split(X, y, test_size=0.2, random_state=42)\n",
        "\n",
        "# Train Logistic Regression model\n",
        "model = LogisticRegression(max_iter=200)\n",
        "model.fit(X_train, y_train)\n",
        "\n",
        "# Save the model\n",
        "with open('model.pkl', 'wb') as file:\n",
        "    pickle.dump(model, file)\n",
        "\n",
        "print(\"Model trained and saved as model.pkl\")"
      ]
    },
    {
      "cell_type": "code",
      "execution_count": 10,
      "metadata": {
        "colab": {
          "base_uri": "https://localhost:8080/"
        },
        "id": "EK-G-3XGaK37",
        "outputId": "2f40ebf8-fcb2-42b0-b0ad-b34d5dab6134"
      },
      "outputs": [
        {
          "name": "stdout",
          "output_type": "stream",
          "text": [
            " * Serving Flask app '__main__'\n",
            " * Debug mode: on\n"
          ]
        }
      ],
      "source": [
        "# SERVER\n",
        "\n",
        "from flask import Flask, request, jsonify\n",
        "import pickle\n",
        "import numpy as np\n",
        "import logging\n",
        "import threading\n",
        "\n",
        "app = Flask(__name__)\n",
        "\n",
        "# Configure logging\n",
        "logging.basicConfig(filename='server.log', level=logging.INFO, format='%(asctime)s %(levelname)s:%(message)s')\n",
        "\n",
        "# Load the pre-trained model\n",
        "try:\n",
        "    with open('model.pkl', 'rb') as file:\n",
        "        model = pickle.load(file)\n",
        "    app.logger.info('Model loaded successfully.')\n",
        "except Exception as e:\n",
        "    app.logger.error(f'Error loading model: {e}')\n",
        "    model = None\n",
        "\n",
        "@app.route('/')\n",
        "def home():\n",
        "    return 'Hello, World! This is the ML model API.'\n",
        "\n",
        "@app.route('/predict', methods=['POST'])\n",
        "def predict():\n",
        "    if model is None:\n",
        "        return jsonify({'error': 'Model not loaded.'}), 500\n",
        "    try:\n",
        "        data = request.get_json(force=True)\n",
        "        if 'features' not in data:\n",
        "            return jsonify({'error': \"The 'features' key is missing from the request payload.\"}), 400\n",
        "        features = data['features']\n",
        "        if not isinstance(features, list):\n",
        "            return jsonify({'error': \"'features' should be a list of numerical values.\"}), 400\n",
        "        if len(features) != 4:\n",
        "            return jsonify({'error': 'Exactly 4 feature values are required.'}), 400\n",
        "        try:\n",
        "            features = [float(x) for x in features]\n",
        "        except ValueError:\n",
        "            return jsonify({'error': 'All feature values must be numeric.'}), 400\n",
        "        prediction = model.predict([features])\n",
        "        return jsonify({'prediction': int(prediction[0])})\n",
        "    except Exception as e:\n",
        "        app.logger.error(f'Exception during prediction: {e}')\n",
        "        return jsonify({'error': 'An error occurred during prediction.'}), 500\n",
        "\n",
        "def run_flask_app():\n",
        "    app.run(debug=True, use_reloader=False)\n",
        "\n",
        "if __name__ == '__main__':\n",
        "    flask_thread = threading.Thread(target=run_flask_app)\n",
        "    flask_thread.start()"
      ]
    },
    {
      "cell_type": "code",
      "execution_count": 12,
      "metadata": {
        "colab": {
          "base_uri": "https://localhost:8080/"
        },
        "id": "6GEpLY3jasC4",
        "outputId": "786e6793-93a4-48f7-a3e0-e01380daf7f5"
      },
      "outputs": [
        {
          "name": "stderr",
          "output_type": "stream",
          "text": [
            "INFO:werkzeug:127.0.0.1 - - [02/Oct/2024 23:11:17] \"POST /predict HTTP/1.1\" 200 -\n"
          ]
        },
        {
          "name": "stdout",
          "output_type": "stream",
          "text": [
            "{'prediction': 0}\n"
          ]
        }
      ],
      "source": [
        "# CLIENT\n",
        "import requests\n",
        "import pickle\n",
        "\n",
        "# The URL for the predict route\n",
        "url = 'http://127.0.0.1:5000/predict'\n",
        "\n",
        "# Example input features\n",
        "data = {\n",
        "    'features': [5.1, 3.5, 1.4, 0.2]\n",
        "}\n",
        "\n",
        "# Send a POST request to the server\n",
        "response = requests.post(url, json=data)\n",
        "\n",
        "# Print the prediction result\n",
        "print(response.json())"
      ]
    },
    {
      "cell_type": "code",
      "execution_count": 11,
      "metadata": {
        "colab": {
          "base_uri": "https://localhost:8080/"
        },
        "id": "YTGK0-F9f2ik",
        "outputId": "758fd820-9482-4061-9f02-1482f02bd462"
      },
      "outputs": [
        {
          "name": "stderr",
          "output_type": "stream",
          "text": [
            "INFO:werkzeug:127.0.0.1 - - [02/Oct/2024 23:11:11] \"POST /predict HTTP/1.1\" 200 -\n"
          ]
        },
        {
          "name": "stdout",
          "output_type": "stream",
          "text": [
            "{\n",
            "  \"prediction\": 0\n",
            "}\n"
          ]
        }
      ],
      "source": [
        "# CURL CLIENT\n",
        "!curl -X POST -H \"Content-Type: application/json\" -d '{\"features\": [5.1, 3.5, 1.4, 0.2]}' http://127.0.0.1:5000/predict"
      ]
    }
  ],
  "metadata": {
    "accelerator": "GPU",
    "colab": {
      "gpuType": "T4",
      "provenance": []
    },
    "kernelspec": {
      "display_name": "Python 3",
      "name": "python3"
    },
    "language_info": {
      "name": "python"
    }
  },
  "nbformat": 4,
  "nbformat_minor": 0
}
